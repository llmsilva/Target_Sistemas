{
 "cells": [
  {
   "cell_type": "code",
   "execution_count": 1,
   "id": "bb22fefb",
   "metadata": {
    "ExecuteTime": {
     "end_time": "2023-02-27T18:47:24.385682Z",
     "start_time": "2023-02-27T18:47:23.575151Z"
    }
   },
   "outputs": [
    {
     "data": {
      "text/html": [
       "<div>\n",
       "<style scoped>\n",
       "    .dataframe tbody tr th:only-of-type {\n",
       "        vertical-align: middle;\n",
       "    }\n",
       "\n",
       "    .dataframe tbody tr th {\n",
       "        vertical-align: top;\n",
       "    }\n",
       "\n",
       "    .dataframe thead th {\n",
       "        text-align: right;\n",
       "    }\n",
       "</style>\n",
       "<table border=\"1\" class=\"dataframe\">\n",
       "  <thead>\n",
       "    <tr style=\"text-align: right;\">\n",
       "      <th></th>\n",
       "      <th>Estado</th>\n",
       "      <th>Faturamento (R$)</th>\n",
       "      <th>Participação</th>\n",
       "    </tr>\n",
       "  </thead>\n",
       "  <tbody>\n",
       "    <tr>\n",
       "      <th>0</th>\n",
       "      <td>SP</td>\n",
       "      <td>67836.43</td>\n",
       "      <td>37.53 %</td>\n",
       "    </tr>\n",
       "    <tr>\n",
       "      <th>1</th>\n",
       "      <td>RJ</td>\n",
       "      <td>36678.66</td>\n",
       "      <td>20.29 %</td>\n",
       "    </tr>\n",
       "    <tr>\n",
       "      <th>2</th>\n",
       "      <td>MG</td>\n",
       "      <td>29229.88</td>\n",
       "      <td>16.17 %</td>\n",
       "    </tr>\n",
       "    <tr>\n",
       "      <th>3</th>\n",
       "      <td>ES</td>\n",
       "      <td>27165.48</td>\n",
       "      <td>15.03 %</td>\n",
       "    </tr>\n",
       "    <tr>\n",
       "      <th>4</th>\n",
       "      <td>Outros</td>\n",
       "      <td>19849.53</td>\n",
       "      <td>10.98 %</td>\n",
       "    </tr>\n",
       "  </tbody>\n",
       "</table>\n",
       "</div>"
      ],
      "text/plain": [
       "   Estado  Faturamento (R$) Participação\n",
       "0      SP          67836.43      37.53 %\n",
       "1      RJ          36678.66      20.29 %\n",
       "2      MG          29229.88      16.17 %\n",
       "3      ES          27165.48      15.03 %\n",
       "4  Outros          19849.53      10.98 %"
      ]
     },
     "metadata": {},
     "output_type": "display_data"
    }
   ],
   "source": [
    "import pandas as pd\n",
    "\n",
    "estados = [\"SP\", \"RJ\", \"MG\", \"ES\", \"Outros\"]\n",
    "faturamento = [67836.43, 36678.66, 29229.88, 27165.48, 19849.53]\n",
    "porcentagem = []\n",
    "total = sum(faturamento)\n",
    "\n",
    "for i in range(len(estados)):\n",
    "    porcentagem.append(f'{round(faturamento[i]*100/total,2)} %')\n",
    "\n",
    "dic = {\"Estado\": estados, \"Faturamento (R$)\": faturamento, \"Participação\": porcentagem}\n",
    "dados = pd.DataFrame(data=dic)\n",
    "\n",
    "display(dados)"
   ]
  }
 ],
 "metadata": {
  "kernelspec": {
   "display_name": "Python 3 (ipykernel)",
   "language": "python",
   "name": "python3"
  },
  "language_info": {
   "codemirror_mode": {
    "name": "ipython",
    "version": 3
   },
   "file_extension": ".py",
   "mimetype": "text/x-python",
   "name": "python",
   "nbconvert_exporter": "python",
   "pygments_lexer": "ipython3",
   "version": "3.9.16"
  }
 },
 "nbformat": 4,
 "nbformat_minor": 5
}
