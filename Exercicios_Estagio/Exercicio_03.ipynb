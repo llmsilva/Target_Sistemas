{
 "cells": [
  {
   "cell_type": "code",
   "execution_count": null,
   "id": "11958876",
   "metadata": {
    "ExecuteTime": {
     "end_time": "2023-02-27T18:47:07.854250Z",
     "start_time": "2023-02-27T18:47:07.805939Z"
    }
   },
   "outputs": [],
   "source": [
    "import pandas as pd\n",
    "\n",
    "df = pd.read_json('dados.json')\n",
    "\n",
    "df1 = df[df[\"valor\"] != 0]\n",
    "\n",
    "minimo = df1[\"valor\"].min()\n",
    "maximo = df1[\"valor\"].max()\n",
    "media = df1[\"valor\"].mean()\n",
    "dias = df1[df1[\"valor\"] > media].value_counts().sum()\n",
    "\n",
    "\n",
    "print(f'\\nO menor valor de faturamento diário foi R$ {minimo:.2f}.')\n",
    "print(f'\\nO maior valor de faturamento diário foi R$ {maximo:.2f}.')\n",
    "print(f'\\nEm {dias} dias do mês o faturamento foi maior que a média mensal (que foi igual a R$ {media:.2f}).')"
   ]
  }
 ],
 "metadata": {
  "kernelspec": {
   "display_name": "Python 3 (ipykernel)",
   "language": "python",
   "name": "python3"
  },
  "language_info": {
   "codemirror_mode": {
    "name": "ipython",
    "version": 3
   },
   "file_extension": ".py",
   "mimetype": "text/x-python",
   "name": "python",
   "nbconvert_exporter": "python",
   "pygments_lexer": "ipython3",
   "version": "3.9.16"
  }
 },
 "nbformat": 4,
 "nbformat_minor": 5
}
